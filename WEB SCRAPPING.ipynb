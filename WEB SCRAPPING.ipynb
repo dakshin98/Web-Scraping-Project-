{
 "cells": [
  {
   "cell_type": "markdown",
   "id": "30da983a",
   "metadata": {},
   "source": [
    "# Web Scarpping 2"
   ]
  },
  {
   "cell_type": "markdown",
   "id": "e371909c",
   "metadata": {},
   "source": [
    "### Importing Libraries"
   ]
  },
  {
   "cell_type": "code",
   "execution_count": 2,
   "id": "91b6ac0e",
   "metadata": {},
   "outputs": [],
   "source": [
    "import pandas as pd"
   ]
  },
  {
   "cell_type": "markdown",
   "id": "b434dc2a",
   "metadata": {},
   "source": [
    "### Import Webiste URL"
   ]
  },
  {
   "cell_type": "code",
   "execution_count": 4,
   "id": "8cdf6f30",
   "metadata": {},
   "outputs": [
    {
     "name": "stdout",
     "output_type": "stream",
     "text": [
      "\n",
      "\n",
      "<!DOCTYPE html>\n",
      "<html\n",
      "    xmlns:og=\"http://ogp.me/ns#\"\n",
      "    xmlns:fb=\"http://www.facebook.com/2008/fbml\">\n",
      "    <head>\n",
      "         \n",
      "\n",
      "        <meta charset=\"utf-8\">\n",
      "        <meta http-equiv=\"X-UA-Compatible\" content=\"IE=edge\">\n",
      "\n",
      "    <meta name=\"apple-itunes-app\" content=\"app-id=342792525, app-argument=imdb:///?src=mdot\">\n",
      "\n",
      "\n",
      "\n",
      "        <script type=\"text/javascript\">var IMDbTimer={starttime: new Date().getTime(),pt:'java'};</script>\n",
      "\n",
      "<script>\n",
      "    if (typeof uet == 'function') {\n",
      "      uet(\"bb\", \"LoadTitle\"\n"
     ]
    }
   ],
   "source": [
    "from requests import get\n",
    "url='https://www.imdb.com/search/title/?release_date=2021-01-01,2021-12-31'\n",
    "response=get(url)\n",
    "print(response.text[:500])"
   ]
  },
  {
   "cell_type": "markdown",
   "id": "49a55ce8",
   "metadata": {},
   "source": [
    "### Using Beautiful Soup "
   ]
  },
  {
   "cell_type": "code",
   "execution_count": 5,
   "id": "355a297a",
   "metadata": {},
   "outputs": [],
   "source": [
    "from bs4 import BeautifulSoup"
   ]
  },
  {
   "cell_type": "code",
   "execution_count": 6,
   "id": "d0a27ec5",
   "metadata": {},
   "outputs": [
    {
     "data": {
      "text/plain": [
       "bs4.BeautifulSoup"
      ]
     },
     "execution_count": 6,
     "metadata": {},
     "output_type": "execute_result"
    }
   ],
   "source": [
    "html_soup=BeautifulSoup(response.text,'html.parser')\n",
    "type(html_soup)"
   ]
  },
  {
   "cell_type": "code",
   "execution_count": 7,
   "id": "887d8af7",
   "metadata": {},
   "outputs": [
    {
     "name": "stdout",
     "output_type": "stream",
     "text": [
      "<class 'bs4.element.ResultSet'>\n",
      "50\n"
     ]
    }
   ],
   "source": [
    "movie_containers=html_soup.find_all('div',class_='lister-item mode-advanced')\n",
    "print(type(movie_containers))\n",
    "print(len(movie_containers))"
   ]
  },
  {
   "cell_type": "code",
   "execution_count": 8,
   "id": "d5a1ffb1",
   "metadata": {},
   "outputs": [
    {
     "data": {
      "text/plain": [
       "<div class=\"lister-item mode-advanced\">\n",
       "<div class=\"lister-top-right\">\n",
       "<div class=\"ribbonize\" data-caller=\"filmosearch\" data-tconst=\"tt6334354\"></div>\n",
       "</div>\n",
       "<div class=\"lister-item-image float-left\">\n",
       "<a href=\"/title/tt6334354/\"> <img alt=\"The Suicide Squad\" class=\"loadlate\" data-tconst=\"tt6334354\" height=\"98\" loadlate=\"https://m.media-amazon.com/images/M/MV5BNGM3YzdlOWYtNjViZS00MTE2LWE1MWUtZmE2ZTcxZjcyMmU3XkEyXkFqcGdeQXVyODEyMTI1MjA@._V1_UX67_CR0,0,67,98_AL_.jpg\" src=\"https://m.media-amazon.com/images/S/sash/4FyxwxECzL-U1J8.png\" width=\"67\"/>\n",
       "</a> </div>\n",
       "<div class=\"lister-item-content\">\n",
       "<h3 class=\"lister-item-header\">\n",
       "<span class=\"lister-item-index unbold text-primary\">1.</span>\n",
       "<a href=\"/title/tt6334354/\">The Suicide Squad</a>\n",
       "<span class=\"lister-item-year text-muted unbold\">(2021)</span>\n",
       "</h3>\n",
       "<p class=\"text-muted\">\n",
       "<span class=\"certificate\">A</span>\n",
       "<span class=\"ghost\">|</span>\n",
       "<span class=\"runtime\">132 min</span>\n",
       "<span class=\"ghost\">|</span>\n",
       "<span class=\"genre\">\n",
       "Action, Adventure, Comedy            </span>\n",
       "</p>\n",
       "<div class=\"ratings-bar\">\n",
       "<div class=\"inline-block ratings-imdb-rating\" data-value=\"7.5\" name=\"ir\">\n",
       "<span class=\"global-sprite rating-star imdb-rating\"></span>\n",
       "<strong>7.5</strong>\n",
       "</div>\n",
       "<div class=\"inline-block ratings-user-rating\">\n",
       "<span class=\"userRatingValue\" data-tconst=\"tt6334354\" id=\"urv_tt6334354\">\n",
       "<span class=\"global-sprite rating-star no-rating\"></span>\n",
       "<span class=\"rate\" data-no-rating=\"Rate this\" data-value=\"0\" name=\"ur\">Rate this</span>\n",
       "</span>\n",
       "<div class=\"starBarWidget\" id=\"sb_tt6334354\">\n",
       "<div class=\"rating rating-list\" data-csrf-token=\"\" data-ga-identifier=\"\" data-starbar-class=\"rating-list\" data-user=\"\" id=\"tt6334354|imdb|7.5|7.5|adv_li_tt||advsearch|title\" itemprop=\"aggregateRating\" itemscope=\"\" itemtype=\"http://schema.org/AggregateRating\" title=\"Users rated this 7.5/10 (121,856 votes) - click stars to rate\">\n",
       "<meta content=\"7.5\" itemprop=\"ratingValue\"/>\n",
       "<meta content=\"10\" itemprop=\"bestRating\"/>\n",
       "<meta content=\"121856\" itemprop=\"ratingCount\"/>\n",
       "<span class=\"rating-bg\"> </span>\n",
       "<span class=\"rating-imdb\" style=\"width: 105px\"> </span>\n",
       "<span class=\"rating-stars\">\n",
       "<a href=\"/register/login?why=vote\" rel=\"nofollow\" title=\"Register or login to rate this title\"><span>1</span></a>\n",
       "<a href=\"/register/login?why=vote\" rel=\"nofollow\" title=\"Register or login to rate this title\"><span>2</span></a>\n",
       "<a href=\"/register/login?why=vote\" rel=\"nofollow\" title=\"Register or login to rate this title\"><span>3</span></a>\n",
       "<a href=\"/register/login?why=vote\" rel=\"nofollow\" title=\"Register or login to rate this title\"><span>4</span></a>\n",
       "<a href=\"/register/login?why=vote\" rel=\"nofollow\" title=\"Register or login to rate this title\"><span>5</span></a>\n",
       "<a href=\"/register/login?why=vote\" rel=\"nofollow\" title=\"Register or login to rate this title\"><span>6</span></a>\n",
       "<a href=\"/register/login?why=vote\" rel=\"nofollow\" title=\"Register or login to rate this title\"><span>7</span></a>\n",
       "<a href=\"/register/login?why=vote\" rel=\"nofollow\" title=\"Register or login to rate this title\"><span>8</span></a>\n",
       "<a href=\"/register/login?why=vote\" rel=\"nofollow\" title=\"Register or login to rate this title\"><span>9</span></a>\n",
       "<a href=\"/register/login?why=vote\" rel=\"nofollow\" title=\"Register or login to rate this title\"><span>10</span></a>\n",
       "</span>\n",
       "<span class=\"rating-rating\"><span class=\"value\">7.5</span><span class=\"grey\">/</span><span class=\"grey\">10</span></span>\n",
       "<span class=\"rating-cancel\"><a href=\"/title/tt6334354/vote\" rel=\"nofollow\" title=\"Delete\"><span>X</span></a></span>\n",
       " </div>\n",
       "</div>\n",
       "</div>\n",
       "<div class=\"inline-block ratings-metascore\">\n",
       "<span class=\"metascore favorable\">72        </span>\n",
       "        Metascore\n",
       "            </div>\n",
       "</div>\n",
       "<p class=\"text-muted\">\n",
       "Supervillains Harley Quinn, Bloodsport, Peacemaker and a collection of nutty cons at Belle Reve prison join the super-secret, super-shady Task Force X as they are dropped off at the remote, enemy-infused island of Corto Maltese.</p>\n",
       "<p class=\"\">\n",
       "    Director:\n",
       "<a href=\"/name/nm0348181/\">James Gunn</a>\n",
       "<span class=\"ghost\">|</span> \n",
       "    Stars:\n",
       "<a href=\"/name/nm3053338/\">Margot Robbie</a>, \n",
       "<a href=\"/name/nm0252961/\">Idris Elba</a>, \n",
       "<a href=\"/name/nm1078479/\">John Cena</a>, \n",
       "<a href=\"/name/nm1172478/\">Joel Kinnaman</a>\n",
       "</p>\n",
       "<p class=\"sort-num_votes-visible\">\n",
       "<span class=\"text-muted\">Votes:</span>\n",
       "<span data-value=\"121856\" name=\"nv\">121,856</span>\n",
       "</p>\n",
       "</div>\n",
       "</div>"
      ]
     },
     "execution_count": 8,
     "metadata": {},
     "output_type": "execute_result"
    }
   ],
   "source": [
    "first_movie=movie_containers[0]\n",
    "first_movie"
   ]
  },
  {
   "cell_type": "code",
   "execution_count": 9,
   "id": "c53263b9",
   "metadata": {},
   "outputs": [
    {
     "data": {
      "text/plain": [
       "<div class=\"lister-top-right\">\n",
       "<div class=\"ribbonize\" data-caller=\"filmosearch\" data-tconst=\"tt6334354\"></div>\n",
       "</div>"
      ]
     },
     "execution_count": 9,
     "metadata": {},
     "output_type": "execute_result"
    }
   ],
   "source": [
    "first_movie.div"
   ]
  },
  {
   "cell_type": "code",
   "execution_count": 10,
   "id": "0f24dc2e",
   "metadata": {},
   "outputs": [
    {
     "data": {
      "text/plain": [
       "<a href=\"/title/tt6334354/\">The Suicide Squad</a>"
      ]
     },
     "execution_count": 10,
     "metadata": {},
     "output_type": "execute_result"
    }
   ],
   "source": [
    "first_movie.h3.a"
   ]
  },
  {
   "cell_type": "code",
   "execution_count": 11,
   "id": "87497ef1",
   "metadata": {},
   "outputs": [
    {
     "data": {
      "text/plain": [
       "'The Suicide Squad'"
      ]
     },
     "execution_count": 11,
     "metadata": {},
     "output_type": "execute_result"
    }
   ],
   "source": [
    "first_name=first_movie.h3.a.text\n",
    "first_name"
   ]
  },
  {
   "cell_type": "code",
   "execution_count": 12,
   "id": "2a388566",
   "metadata": {},
   "outputs": [
    {
     "data": {
      "text/plain": [
       "<span class=\"lister-item-year text-muted unbold\">(2021)</span>"
      ]
     },
     "execution_count": 12,
     "metadata": {},
     "output_type": "execute_result"
    }
   ],
   "source": [
    "first_year=first_movie.h3.find('span',class_='lister-item-year text-muted unbold')\n",
    "first_year"
   ]
  },
  {
   "cell_type": "code",
   "execution_count": 13,
   "id": "9c265d5c",
   "metadata": {},
   "outputs": [
    {
     "data": {
      "text/plain": [
       "'(2021)'"
      ]
     },
     "execution_count": 13,
     "metadata": {},
     "output_type": "execute_result"
    }
   ],
   "source": [
    "first_year=first_year.text\n",
    "first_year"
   ]
  },
  {
   "cell_type": "code",
   "execution_count": 14,
   "id": "dcceaf0c",
   "metadata": {},
   "outputs": [
    {
     "data": {
      "text/plain": [
       "7.5"
      ]
     },
     "execution_count": 14,
     "metadata": {},
     "output_type": "execute_result"
    }
   ],
   "source": [
    "first_imdb=float(first_movie.strong.text)\n",
    "first_imdb"
   ]
  },
  {
   "cell_type": "code",
   "execution_count": 15,
   "id": "3527d12e",
   "metadata": {},
   "outputs": [
    {
     "data": {
      "text/plain": [
       "72"
      ]
     },
     "execution_count": 15,
     "metadata": {},
     "output_type": "execute_result"
    }
   ],
   "source": [
    "first_mscore=first_movie.find('span',class_='metascore favorable')\n",
    "first_mscore=int(first_mscore.text)\n",
    "first_mscore"
   ]
  },
  {
   "cell_type": "code",
   "execution_count": 16,
   "id": "0eaa665c",
   "metadata": {},
   "outputs": [
    {
     "data": {
      "text/plain": [
       "'121856'"
      ]
     },
     "execution_count": 16,
     "metadata": {},
     "output_type": "execute_result"
    }
   ],
   "source": [
    "first_votes=first_movie.find('span',attrs={'name':'nv'})\n",
    "first_votes['data-value']"
   ]
  },
  {
   "cell_type": "code",
   "execution_count": 17,
   "id": "f5978975",
   "metadata": {},
   "outputs": [],
   "source": [
    "names=[]\n",
    "years=[]\n",
    "imdb_ratings=[]\n",
    "metascores=[]\n",
    "votes=[]\n",
    "\n",
    "for c in movie_containers:\n",
    "    if c.find('div',class_='ratings-metascore') is not None:\n",
    "        name=c.h3.a.text\n",
    "        names.append(name)\n",
    "        year=c.h3.find('span',class_='lister-item-year').text\n",
    "        years.append(year)\n",
    "        imdb=float(c.strong.text)\n",
    "        imdb_ratings.append(imdb)\n",
    "        m_score=c.find('span',class_='metascore').text\n",
    "        metascores.append(m_score)\n",
    "        vote=c.find('span',attrs={'name':'nv'})['data-value']\n",
    "        votes.append(int(vote))"
   ]
  },
  {
   "cell_type": "code",
   "execution_count": 18,
   "id": "b6d3dcf6",
   "metadata": {},
   "outputs": [
    {
     "data": {
      "text/html": [
       "<div>\n",
       "<style scoped>\n",
       "    .dataframe tbody tr th:only-of-type {\n",
       "        vertical-align: middle;\n",
       "    }\n",
       "\n",
       "    .dataframe tbody tr th {\n",
       "        vertical-align: top;\n",
       "    }\n",
       "\n",
       "    .dataframe thead th {\n",
       "        text-align: right;\n",
       "    }\n",
       "</style>\n",
       "<table border=\"1\" class=\"dataframe\">\n",
       "  <thead>\n",
       "    <tr style=\"text-align: right;\">\n",
       "      <th></th>\n",
       "      <th>movie</th>\n",
       "      <th>year</th>\n",
       "      <th>imdb</th>\n",
       "      <th>metascore</th>\n",
       "      <th>votes</th>\n",
       "    </tr>\n",
       "  </thead>\n",
       "  <tbody>\n",
       "    <tr>\n",
       "      <th>0</th>\n",
       "      <td>The Suicide Squad</td>\n",
       "      <td>(2021)</td>\n",
       "      <td>7.5</td>\n",
       "      <td>72</td>\n",
       "      <td>121856</td>\n",
       "    </tr>\n",
       "    <tr>\n",
       "      <th>1</th>\n",
       "      <td>Jungle Cruise</td>\n",
       "      <td>(2021)</td>\n",
       "      <td>6.7</td>\n",
       "      <td>50</td>\n",
       "      <td>65764</td>\n",
       "    </tr>\n",
       "    <tr>\n",
       "      <th>2</th>\n",
       "      <td>The Green Knight</td>\n",
       "      <td>(2021)</td>\n",
       "      <td>7.4</td>\n",
       "      <td>85</td>\n",
       "      <td>11627</td>\n",
       "    </tr>\n",
       "    <tr>\n",
       "      <th>3</th>\n",
       "      <td>F9</td>\n",
       "      <td>(2021)</td>\n",
       "      <td>5.2</td>\n",
       "      <td>58</td>\n",
       "      <td>70667</td>\n",
       "    </tr>\n",
       "    <tr>\n",
       "      <th>4</th>\n",
       "      <td>Old</td>\n",
       "      <td>(2021)</td>\n",
       "      <td>5.9</td>\n",
       "      <td>55</td>\n",
       "      <td>20620</td>\n",
       "    </tr>\n",
       "    <tr>\n",
       "      <th>5</th>\n",
       "      <td>Black Widow</td>\n",
       "      <td>(2021)</td>\n",
       "      <td>6.8</td>\n",
       "      <td>67</td>\n",
       "      <td>178153</td>\n",
       "    </tr>\n",
       "    <tr>\n",
       "      <th>6</th>\n",
       "      <td>Free Guy</td>\n",
       "      <td>(2021)</td>\n",
       "      <td>7.7</td>\n",
       "      <td>62</td>\n",
       "      <td>9484</td>\n",
       "    </tr>\n",
       "    <tr>\n",
       "      <th>7</th>\n",
       "      <td>Blood Red Sky</td>\n",
       "      <td>(2021)</td>\n",
       "      <td>6.1</td>\n",
       "      <td>43</td>\n",
       "      <td>28775</td>\n",
       "    </tr>\n",
       "    <tr>\n",
       "      <th>8</th>\n",
       "      <td>Pig</td>\n",
       "      <td>(2021)</td>\n",
       "      <td>7.0</td>\n",
       "      <td>82</td>\n",
       "      <td>20819</td>\n",
       "    </tr>\n",
       "    <tr>\n",
       "      <th>9</th>\n",
       "      <td>Space Jam: A New Legacy</td>\n",
       "      <td>(2021)</td>\n",
       "      <td>4.4</td>\n",
       "      <td>36</td>\n",
       "      <td>46345</td>\n",
       "    </tr>\n",
       "    <tr>\n",
       "      <th>10</th>\n",
       "      <td>Jolt</td>\n",
       "      <td>(2021)</td>\n",
       "      <td>5.5</td>\n",
       "      <td>48</td>\n",
       "      <td>16985</td>\n",
       "    </tr>\n",
       "    <tr>\n",
       "      <th>11</th>\n",
       "      <td>Stillwater</td>\n",
       "      <td>(2021)</td>\n",
       "      <td>6.9</td>\n",
       "      <td>60</td>\n",
       "      <td>3225</td>\n",
       "    </tr>\n",
       "    <tr>\n",
       "      <th>12</th>\n",
       "      <td>Way Down</td>\n",
       "      <td>(2021)</td>\n",
       "      <td>6.4</td>\n",
       "      <td>50</td>\n",
       "      <td>12701</td>\n",
       "    </tr>\n",
       "    <tr>\n",
       "      <th>13</th>\n",
       "      <td>Fear Street: 1994</td>\n",
       "      <td>(2021)</td>\n",
       "      <td>6.2</td>\n",
       "      <td>67</td>\n",
       "      <td>55433</td>\n",
       "    </tr>\n",
       "    <tr>\n",
       "      <th>14</th>\n",
       "      <td>The Tomorrow War</td>\n",
       "      <td>(2021)</td>\n",
       "      <td>6.6</td>\n",
       "      <td>45</td>\n",
       "      <td>141726</td>\n",
       "    </tr>\n",
       "    <tr>\n",
       "      <th>15</th>\n",
       "      <td>Le dernier mercenaire</td>\n",
       "      <td>(2021)</td>\n",
       "      <td>5.3</td>\n",
       "      <td>48</td>\n",
       "      <td>5154</td>\n",
       "    </tr>\n",
       "    <tr>\n",
       "      <th>16</th>\n",
       "      <td>Wrath of Man</td>\n",
       "      <td>(2021)</td>\n",
       "      <td>7.2</td>\n",
       "      <td>57</td>\n",
       "      <td>96121</td>\n",
       "    </tr>\n",
       "    <tr>\n",
       "      <th>17</th>\n",
       "      <td>Resort to Love</td>\n",
       "      <td>(2021)</td>\n",
       "      <td>5.7</td>\n",
       "      <td>46</td>\n",
       "      <td>2986</td>\n",
       "    </tr>\n",
       "    <tr>\n",
       "      <th>18</th>\n",
       "      <td>The Last Letter from Your Lover</td>\n",
       "      <td>(2021)</td>\n",
       "      <td>6.7</td>\n",
       "      <td>57</td>\n",
       "      <td>7874</td>\n",
       "    </tr>\n",
       "    <tr>\n",
       "      <th>19</th>\n",
       "      <td>Gunpowder Milkshake</td>\n",
       "      <td>(2021)</td>\n",
       "      <td>6.0</td>\n",
       "      <td>48</td>\n",
       "      <td>21726</td>\n",
       "    </tr>\n",
       "    <tr>\n",
       "      <th>20</th>\n",
       "      <td>Luca</td>\n",
       "      <td>(2021)</td>\n",
       "      <td>7.5</td>\n",
       "      <td>71</td>\n",
       "      <td>90934</td>\n",
       "    </tr>\n",
       "    <tr>\n",
       "      <th>21</th>\n",
       "      <td>Annette</td>\n",
       "      <td>(2021)</td>\n",
       "      <td>7.0</td>\n",
       "      <td>65</td>\n",
       "      <td>1811</td>\n",
       "    </tr>\n",
       "    <tr>\n",
       "      <th>22</th>\n",
       "      <td>Snake Eyes: G.I. Joe Origins</td>\n",
       "      <td>(2021)</td>\n",
       "      <td>5.7</td>\n",
       "      <td>43</td>\n",
       "      <td>5930</td>\n",
       "    </tr>\n",
       "    <tr>\n",
       "      <th>23</th>\n",
       "      <td>Fear Street: 1978</td>\n",
       "      <td>(2021)</td>\n",
       "      <td>6.8</td>\n",
       "      <td>61</td>\n",
       "      <td>41585</td>\n",
       "    </tr>\n",
       "    <tr>\n",
       "      <th>24</th>\n",
       "      <td>Vivo</td>\n",
       "      <td>(I) (2021)</td>\n",
       "      <td>6.8</td>\n",
       "      <td>65</td>\n",
       "      <td>5075</td>\n",
       "    </tr>\n",
       "    <tr>\n",
       "      <th>25</th>\n",
       "      <td>Hitman's Wife's Bodyguard</td>\n",
       "      <td>(2021)</td>\n",
       "      <td>6.2</td>\n",
       "      <td>32</td>\n",
       "      <td>39457</td>\n",
       "    </tr>\n",
       "    <tr>\n",
       "      <th>26</th>\n",
       "      <td>Cruella</td>\n",
       "      <td>(2021)</td>\n",
       "      <td>7.4</td>\n",
       "      <td>59</td>\n",
       "      <td>116712</td>\n",
       "    </tr>\n",
       "    <tr>\n",
       "      <th>27</th>\n",
       "      <td>Nobody</td>\n",
       "      <td>(2021)</td>\n",
       "      <td>7.4</td>\n",
       "      <td>64</td>\n",
       "      <td>144074</td>\n",
       "    </tr>\n",
       "  </tbody>\n",
       "</table>\n",
       "</div>"
      ],
      "text/plain": [
       "                              movie        year  imdb   metascore   votes\n",
       "0                 The Suicide Squad      (2021)   7.5  72          121856\n",
       "1                     Jungle Cruise      (2021)   6.7  50           65764\n",
       "2                  The Green Knight      (2021)   7.4  85           11627\n",
       "3                                F9      (2021)   5.2  58           70667\n",
       "4                               Old      (2021)   5.9  55           20620\n",
       "5                       Black Widow      (2021)   6.8  67          178153\n",
       "6                          Free Guy      (2021)   7.7  62            9484\n",
       "7                     Blood Red Sky      (2021)   6.1  43           28775\n",
       "8                               Pig      (2021)   7.0  82           20819\n",
       "9           Space Jam: A New Legacy      (2021)   4.4  36           46345\n",
       "10                             Jolt      (2021)   5.5  48           16985\n",
       "11                       Stillwater      (2021)   6.9  60            3225\n",
       "12                         Way Down      (2021)   6.4  50           12701\n",
       "13                Fear Street: 1994      (2021)   6.2  67           55433\n",
       "14                 The Tomorrow War      (2021)   6.6  45          141726\n",
       "15            Le dernier mercenaire      (2021)   5.3  48            5154\n",
       "16                     Wrath of Man      (2021)   7.2  57           96121\n",
       "17                   Resort to Love      (2021)   5.7  46            2986\n",
       "18  The Last Letter from Your Lover      (2021)   6.7  57            7874\n",
       "19              Gunpowder Milkshake      (2021)   6.0  48           21726\n",
       "20                             Luca      (2021)   7.5  71           90934\n",
       "21                          Annette      (2021)   7.0  65            1811\n",
       "22     Snake Eyes: G.I. Joe Origins      (2021)   5.7  43            5930\n",
       "23                Fear Street: 1978      (2021)   6.8  61           41585\n",
       "24                             Vivo  (I) (2021)   6.8  65            5075\n",
       "25        Hitman's Wife's Bodyguard      (2021)   6.2  32           39457\n",
       "26                          Cruella      (2021)   7.4  59          116712\n",
       "27                           Nobody      (2021)   7.4  64          144074"
      ]
     },
     "execution_count": 18,
     "metadata": {},
     "output_type": "execute_result"
    }
   ],
   "source": [
    "test_df=pd.DataFrame({'movie':names,'year':years,'imdb':imdb_ratings,'metascore':metascores,'votes':votes})\n",
    "test_df"
   ]
  },
  {
   "cell_type": "code",
   "execution_count": 23,
   "id": "16ab9e87",
   "metadata": {},
   "outputs": [],
   "source": [
    "test_df.to_excel(r'C:\\\\Post Graduate Course in Data Analytics\\\\MACHINE LEARNING\\\\WEB SCRAPPING\\\\movie_ratings.xlsx',index=False,header=True)"
   ]
  },
  {
   "cell_type": "code",
   "execution_count": null,
   "id": "fa5b2c2d",
   "metadata": {},
   "outputs": [],
   "source": []
  }
 ],
 "metadata": {
  "kernelspec": {
   "display_name": "Python 3",
   "language": "python",
   "name": "python3"
  },
  "language_info": {
   "codemirror_mode": {
    "name": "ipython",
    "version": 3
   },
   "file_extension": ".py",
   "mimetype": "text/x-python",
   "name": "python",
   "nbconvert_exporter": "python",
   "pygments_lexer": "ipython3",
   "version": "3.8.8"
  }
 },
 "nbformat": 4,
 "nbformat_minor": 5
}
